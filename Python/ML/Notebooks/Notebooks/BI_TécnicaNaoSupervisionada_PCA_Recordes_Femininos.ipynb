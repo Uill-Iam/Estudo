{
 "cells": [
  {
   "cell_type": "markdown",
   "id": "d4d242ab",
   "metadata": {},
   "source": [
    "\n",
    "          Dimensionality Reduction\n",
    "          \n",
    "          Principal Component Analysis  (PCA)\n"
   ]
  },
  {
   "cell_type": "markdown",
   "id": "906af5f0",
   "metadata": {},
   "source": [
    "          Exemplo de aplicação da técnica de PCA\n",
    "\n",
    "\n",
    "         Objetivo: Criar um indicador utilizando os recordes femininos da modalidade esportiva de corridas. \n",
    "         \n",
    "         Para o desenvolvimento do modelo será utilizada uma base disponível no site da universidade de Wisconsin \n",
    "         através do endereço: http://www.stat.wisc.edu/~rich/JWMULT06dat/T1-9.dat.\n",
    "\n",
    "          Nesta base temos os recordes femininos internacionais,das seguintes modalidades:\n",
    "          100 metros em segundos, \n",
    "          200 metros em segundos, \n",
    "          400 metros em segundos, \n",
    "          800 metros em minutos, \n",
    "          1.500 metros em minutos,\n",
    "          3.000 metros em minutos e\n",
    "          maratona em minutos.\n",
    "\n",
    "\n"
   ]
  },
  {
   "cell_type": "code",
   "execution_count": null,
   "id": "f6b1c32b",
   "metadata": {},
   "outputs": [],
   "source": [
    "# Importar as bibliotecas\n",
    "import matplotlib.pyplot as plt\n",
    "import pandas as pd\n",
    "import numpy as np\n",
    "import seaborn as sb\n",
    "%matplotlib inline\n",
    "\n",
    "\n",
    "import warnings\n",
    "warnings.simplefilter(action='ignore', category=FutureWarning)\n"
   ]
  },
  {
   "cell_type": "code",
   "execution_count": null,
   "id": "6a080aa3",
   "metadata": {},
   "outputs": [],
   "source": [
    "# Importar os dados\n",
    "dados = pd.read_csv(\"Base_Paises.csv\", sep=\";\")"
   ]
  },
  {
   "cell_type": "code",
   "execution_count": null,
   "id": "06960460",
   "metadata": {},
   "outputs": [],
   "source": [
    "dados.head()"
   ]
  },
  {
   "cell_type": "code",
   "execution_count": null,
   "id": "aaceee05",
   "metadata": {},
   "outputs": [],
   "source": [
    "dados.info()"
   ]
  },
  {
   "cell_type": "code",
   "execution_count": null,
   "id": "6c525acc",
   "metadata": {},
   "outputs": [],
   "source": [
    "\n",
    "pd.DataFrame(zip(dados.isnull().sum(), dados.isnull().sum()/len(dados)), columns=['Count', 'Proportion'], index=dados.columns)\n"
   ]
  },
  {
   "cell_type": "code",
   "execution_count": null,
   "id": "1b322bf4",
   "metadata": {},
   "outputs": [],
   "source": [
    "dados.describe().T"
   ]
  },
  {
   "cell_type": "code",
   "execution_count": null,
   "id": "2b0acbf6",
   "metadata": {},
   "outputs": [],
   "source": [
    "print(dados)"
   ]
  },
  {
   "cell_type": "code",
   "execution_count": null,
   "id": "e8860369",
   "metadata": {},
   "outputs": [],
   "source": []
  },
  {
   "cell_type": "code",
   "execution_count": null,
   "id": "6e89b532",
   "metadata": {},
   "outputs": [],
   "source": [
    "# draw boxplots to visualize outliers\n",
    "\n",
    "plt.figure(figsize=(24,20))\n",
    "\n",
    "\n",
    "plt.subplot(4, 2, 1)\n",
    "fig = dados.boxplot(column='p100ms')\n",
    "fig.set_title('')\n",
    "fig.set_ylabel('p100ms')\n",
    "\n",
    "\n",
    "plt.subplot(4, 2, 2)\n",
    "fig = dados.boxplot(column='p200ms')\n",
    "fig.set_title('')\n",
    "fig.set_ylabel('p200ms')\n",
    "\n",
    "\n",
    "plt.subplot(4, 2, 3)\n",
    "fig = dados.boxplot(column='p400ms')\n",
    "fig.set_title('')\n",
    "fig.set_ylabel('p400ms')\n",
    "\n",
    "plt.subplot(4, 2, 4)\n",
    "fig = dados.boxplot(column='p800mm')\n",
    "fig.set_title('')\n",
    "fig.set_ylabel('p800mm')\n",
    "\n",
    "plt.subplot(4, 2, 5)\n",
    "fig = dados.boxplot(column='p1500mm')\n",
    "fig.set_title('')\n",
    "fig.set_ylabel('p1500mm')\n",
    "\n",
    "plt.subplot(4, 2, 6)\n",
    "fig = dados.boxplot(column='p3000mm')\n",
    "fig.set_title('')\n",
    "fig.set_ylabel('p3000mm')\n",
    "\n",
    "\n",
    "plt.subplot(4, 2, 7)\n",
    "fig = dados.boxplot(column='pmaratm')\n",
    "fig.set_title('')\n",
    "fig.set_ylabel('pmaratm')\n"
   ]
  },
  {
   "cell_type": "code",
   "execution_count": null,
   "id": "3d7181ba",
   "metadata": {},
   "outputs": [],
   "source": [
    "# Excluindo outliers e selecionando somente as variáveis para redução da dimensionalidade\n",
    "\n",
    "#aux = dados[dados['pmaratm'] < 180] \n",
    "# dados_semout = aux.drop(['PAIS'], axis=1)\n",
    "\n",
    "dados_semout = dados.drop(['PAIS'], axis=1)\n",
    "\n",
    "dados_semout.describe()\n",
    "\n"
   ]
  },
  {
   "cell_type": "code",
   "execution_count": null,
   "id": "c5d4425e",
   "metadata": {},
   "outputs": [],
   "source": [
    "\n"
   ]
  },
  {
   "cell_type": "code",
   "execution_count": null,
   "id": "352eb33b",
   "metadata": {},
   "outputs": [],
   "source": [
    "# Análise exploratória dos dados\n",
    "#sb.pairplot()\n",
    "sb.pairplot(dados_semout)"
   ]
  },
  {
   "cell_type": "code",
   "execution_count": null,
   "id": "284e161c",
   "metadata": {},
   "outputs": [],
   "source": [
    "# Matriz de Correlação de Pearson\n",
    "dados_semout.corr(method='pearson')"
   ]
  },
  {
   "cell_type": "code",
   "execution_count": null,
   "id": "3ecc3dc9",
   "metadata": {},
   "outputs": [],
   "source": [
    "# Matriz de correlação\n",
    "sb.heatmap(dados_semout.corr(), cmap='coolwarm', annot = True);"
   ]
  },
  {
   "cell_type": "code",
   "execution_count": null,
   "id": "e69927a3",
   "metadata": {},
   "outputs": [],
   "source": [
    "from sklearn.preprocessing import StandardScaler\n",
    "\n",
    "scaler = StandardScaler()\n",
    "scaler.fit(dados_semout)"
   ]
  },
  {
   "cell_type": "code",
   "execution_count": null,
   "id": "69279cfe",
   "metadata": {},
   "outputs": [],
   "source": [
    "scaled_df = scaler.transform(dados_semout)"
   ]
  },
  {
   "cell_type": "code",
   "execution_count": null,
   "id": "b51edcc9",
   "metadata": {},
   "outputs": [],
   "source": [
    "print(scaled_df)"
   ]
  },
  {
   "cell_type": "code",
   "execution_count": null,
   "id": "7e16b28a",
   "metadata": {},
   "outputs": [],
   "source": []
  },
  {
   "cell_type": "code",
   "execution_count": null,
   "id": "f466ecc7",
   "metadata": {},
   "outputs": [],
   "source": [
    "from sklearn.decomposition import PCA"
   ]
  },
  {
   "cell_type": "code",
   "execution_count": null,
   "id": "598bf2bf",
   "metadata": {},
   "outputs": [],
   "source": [
    "# Pedindo a quantidade de componentes possíveis p variáveis pode ser gerado até p componnetes\n",
    "pca = PCA(n_components=7)"
   ]
  },
  {
   "cell_type": "code",
   "execution_count": null,
   "id": "dd2cee40",
   "metadata": {},
   "outputs": [],
   "source": [
    "pca.fit(scaled_df)"
   ]
  },
  {
   "cell_type": "code",
   "execution_count": null,
   "id": "4fb214c0",
   "metadata": {},
   "outputs": [],
   "source": [
    "print('Auto-valores:')\n",
    "print(pca.explained_variance_)\n",
    "print()\n",
    "\n",
    "# a soma dos auto-valores é igual a quantidade de variáveis"
   ]
  },
  {
   "cell_type": "code",
   "execution_count": null,
   "id": "e9048f2a",
   "metadata": {},
   "outputs": [],
   "source": [
    "# Quanto da variância é explicada por cada componente.\n",
    "print('Variância Explicada:')\n",
    "print(pca.explained_variance_ratio_)\n",
    "print()\n"
   ]
  },
  {
   "cell_type": "code",
   "execution_count": null,
   "id": "e9a3dee6",
   "metadata": {},
   "outputs": [],
   "source": [
    "# Gráfico Scree Plot\n",
    "\n",
    "perc = pca.explained_variance_ratio_ * 100\n",
    "\n",
    "perc = pd.DataFrame(perc, columns=['Percentage explained ratio'], index=['PC %s' % pc for pc in np.arange(len(perc)) + 1])\n",
    "ax = perc.plot(kind='bar')"
   ]
  },
  {
   "cell_type": "markdown",
   "id": "9564ec6a",
   "metadata": {},
   "source": [
    "### Extraindo e plotando dois componentes\n",
    "\n",
    "### Percebam que eles são ortogonais "
   ]
  },
  {
   "cell_type": "code",
   "execution_count": null,
   "id": "b4acc62b",
   "metadata": {},
   "outputs": [],
   "source": [
    "from sklearn.decomposition import PCA\n",
    "\n",
    "line = dict(linewidth=1, linestyle='--', color='k')\n",
    "marker = dict(linestyle='none', marker='o', markersize=7, color='red', alpha=0.5)\n",
    "\n",
    "\n",
    "pca = PCA(n_components=2, copy=True)\n",
    "X_2 = pca.fit_transform(scaled_df)\n",
    "\n",
    "fig, ax = plt.subplots()\n",
    "ax.plot(X_2[:, 0], X_2[:, 1], **marker) \n",
    "ax.set_xlim([-2, 2])\n",
    "ax.set_ylim([-2, 2])\n",
    "ax.axhline(**line)\n",
    "ax.axvline(**line)\n",
    "_ = ax.set_title(\"PCA\")"
   ]
  },
  {
   "cell_type": "code",
   "execution_count": null,
   "id": "b67dbb0c",
   "metadata": {},
   "outputs": [],
   "source": [
    "# Correlação de Pearson\n",
    "corr = pd.DataFrame(X_2).corr(method='pearson')\n",
    "\n",
    "corr.round(5)\n"
   ]
  },
  {
   "cell_type": "code",
   "execution_count": null,
   "id": "143823cc",
   "metadata": {},
   "outputs": [],
   "source": []
  },
  {
   "cell_type": "code",
   "execution_count": null,
   "id": "3c9d69a9",
   "metadata": {},
   "outputs": [],
   "source": [
    "pca = PCA(n_components=7)\n",
    "pca.fit(scaled_df)\n",
    "\n",
    "print('Auto-vetores:')\n",
    "print(pca.components_)\n",
    "print()\n"
   ]
  },
  {
   "cell_type": "code",
   "execution_count": null,
   "id": "cbf3a3bc",
   "metadata": {
    "scrolled": true
   },
   "outputs": [],
   "source": [
    "from pandas import DataFrame\n",
    "loadings = DataFrame(pca.components_.T)\n",
    "loadings.index = ['TS %s' % pc for pc in loadings.index + 1]\n",
    "loadings.columns = ['PC %s' % pc for pc in loadings.columns + 1]\n",
    "loadings"
   ]
  },
  {
   "cell_type": "code",
   "execution_count": null,
   "id": "28e0b000",
   "metadata": {},
   "outputs": [],
   "source": []
  },
  {
   "cell_type": "code",
   "execution_count": null,
   "id": "0fd16d3f",
   "metadata": {},
   "outputs": [],
   "source": [
    "# base padronizada\n",
    "\n",
    "scaled_df.shape"
   ]
  },
  {
   "cell_type": "code",
   "execution_count": null,
   "id": "0653a358",
   "metadata": {},
   "outputs": [],
   "source": [
    "scaled_df.round(2)"
   ]
  },
  {
   "cell_type": "code",
   "execution_count": null,
   "id": "1b297063",
   "metadata": {},
   "outputs": [],
   "source": [
    "# Pontuando a base com o PCA\n",
    "\n",
    "x_pca = pca.transform(scaled_df)"
   ]
  },
  {
   "cell_type": "code",
   "execution_count": null,
   "id": "6b15a186",
   "metadata": {},
   "outputs": [],
   "source": [
    "# base pontuada com PCA\n",
    "\n",
    "x_pca.shape"
   ]
  },
  {
   "cell_type": "code",
   "execution_count": null,
   "id": "53cd72a0",
   "metadata": {},
   "outputs": [],
   "source": [
    "# base componentes principais\n",
    "x_pca.round(2)"
   ]
  },
  {
   "cell_type": "markdown",
   "id": "62330673",
   "metadata": {},
   "source": [
    "## Selecionando somente 1 componente \n",
    "\n",
    "    ==> Objetivo solicitado"
   ]
  },
  {
   "cell_type": "code",
   "execution_count": null,
   "id": "7fbafbe4",
   "metadata": {},
   "outputs": [],
   "source": [
    "pca_1 = PCA(n_components=1)\n",
    " "
   ]
  },
  {
   "cell_type": "code",
   "execution_count": null,
   "id": "55fd26d9",
   "metadata": {},
   "outputs": [],
   "source": [
    "pca_1.fit(scaled_df)"
   ]
  },
  {
   "cell_type": "code",
   "execution_count": null,
   "id": "c43df760",
   "metadata": {},
   "outputs": [],
   "source": [
    "x_pca_1 = pca_1.transform(scaled_df)"
   ]
  },
  {
   "cell_type": "code",
   "execution_count": null,
   "id": "3de4e771",
   "metadata": {},
   "outputs": [],
   "source": []
  },
  {
   "cell_type": "code",
   "execution_count": null,
   "id": "78512272",
   "metadata": {},
   "outputs": [],
   "source": [
    "# Check the dimensions of data after PCA\n",
    "x_pca_1.shape"
   ]
  },
  {
   "cell_type": "code",
   "execution_count": null,
   "id": "50d30a60",
   "metadata": {},
   "outputs": [],
   "source": [
    "x_pca_1.round(2)"
   ]
  },
  {
   "cell_type": "code",
   "execution_count": null,
   "id": "42347a76",
   "metadata": {},
   "outputs": [],
   "source": [
    "# Check the values of eigen vectors\n",
    "# prodeced by principal components\n",
    "\n",
    "pca_1.components_"
   ]
  },
  {
   "cell_type": "code",
   "execution_count": null,
   "id": "92da0411",
   "metadata": {},
   "outputs": [],
   "source": []
  },
  {
   "cell_type": "code",
   "execution_count": null,
   "id": "f299213d",
   "metadata": {},
   "outputs": [],
   "source": [
    "PCA_1 = x_pca_1[:,0]"
   ]
  },
  {
   "cell_type": "code",
   "execution_count": null,
   "id": "d74e10ca",
   "metadata": {},
   "outputs": [],
   "source": [
    "PCA_1"
   ]
  },
  {
   "cell_type": "code",
   "execution_count": null,
   "id": "618380ea",
   "metadata": {},
   "outputs": [],
   "source": [
    "PCA_1.round(2)"
   ]
  },
  {
   "cell_type": "code",
   "execution_count": null,
   "id": "ae038bb6",
   "metadata": {},
   "outputs": [],
   "source": [
    "Basefim = DataFrame(PCA_1) "
   ]
  },
  {
   "cell_type": "code",
   "execution_count": null,
   "id": "f573354a",
   "metadata": {},
   "outputs": [],
   "source": [
    "Basefim.columns = ['PCA_1']"
   ]
  },
  {
   "cell_type": "code",
   "execution_count": null,
   "id": "452ba794",
   "metadata": {},
   "outputs": [],
   "source": [
    "Basefim['PAIS'] =  DataFrame(dados['PAIS'] )"
   ]
  },
  {
   "cell_type": "code",
   "execution_count": null,
   "id": "85aa6d42",
   "metadata": {},
   "outputs": [],
   "source": [
    "Basefim['PAIS'] = dados['PAIS'] "
   ]
  },
  {
   "cell_type": "code",
   "execution_count": null,
   "id": "219fee6d",
   "metadata": {
    "scrolled": true
   },
   "outputs": [],
   "source": [
    "Basefim "
   ]
  },
  {
   "cell_type": "code",
   "execution_count": null,
   "id": "9fae4518",
   "metadata": {},
   "outputs": [],
   "source": [
    "Basefim.describe().round()"
   ]
  },
  {
   "cell_type": "markdown",
   "id": "0605fc4e",
   "metadata": {},
   "source": [
    "    O indicador está criado agora vamos trabalhar no uso desse indicador - fazendo transformaçãoe "
   ]
  },
  {
   "cell_type": "code",
   "execution_count": null,
   "id": "cf099124",
   "metadata": {},
   "outputs": [],
   "source": [
    "#transformando o componenete: Quanto mais rápido maior o indicador\n",
    "Basefim['PCA_1'] = -Basefim['PCA_1']"
   ]
  },
  {
   "cell_type": "code",
   "execution_count": null,
   "id": "8c5b8025",
   "metadata": {},
   "outputs": [],
   "source": [
    "Basefim.describe().round()"
   ]
  },
  {
   "cell_type": "code",
   "execution_count": null,
   "id": "05047cb8",
   "metadata": {},
   "outputs": [],
   "source": [
    "#transformando o indicadoor de Performance:normalização de 0 a 1 e multiplicado por 100\n",
    "\n",
    "Basefim['IndPerf'] = (Basefim['PCA_1'] - min(Basefim['PCA_1']))/( max(Basefim['PCA_1']) - min(Basefim['PCA_1']) ) *100"
   ]
  },
  {
   "cell_type": "code",
   "execution_count": null,
   "id": "223f28fd",
   "metadata": {},
   "outputs": [],
   "source": [
    "Basefim.describe().round(2)"
   ]
  },
  {
   "cell_type": "code",
   "execution_count": null,
   "id": "9adcbe3a",
   "metadata": {},
   "outputs": [],
   "source": [
    "Basefim"
   ]
  },
  {
   "cell_type": "code",
   "execution_count": null,
   "id": "9a1ded5f",
   "metadata": {},
   "outputs": [],
   "source": []
  },
  {
   "cell_type": "markdown",
   "id": "8d5cc6ae",
   "metadata": {},
   "source": [
    "#### Componentes Principais  tem a finalidade de criar indicadores mas também diminuir a dimensionalidade \n",
    "#### de análises posteriores  como clusters e análise supervisionadas com muitas variáveis correlacionadas "
   ]
  },
  {
   "cell_type": "markdown",
   "id": "9b4decbc",
   "metadata": {},
   "source": [
    "    Selecionando somente 2 componentes\n",
    "     ==> fazer uma segmentação agora não mais com 7 variáveis mas sim 2 componnetes"
   ]
  },
  {
   "cell_type": "code",
   "execution_count": null,
   "id": "653d195b",
   "metadata": {},
   "outputs": [],
   "source": [
    "pca_2 = PCA(n_components=2)"
   ]
  },
  {
   "cell_type": "code",
   "execution_count": null,
   "id": "1b44a507",
   "metadata": {},
   "outputs": [],
   "source": [
    "pca_2.fit(scaled_df)"
   ]
  },
  {
   "cell_type": "code",
   "execution_count": null,
   "id": "ec0c4b3b",
   "metadata": {},
   "outputs": [],
   "source": [
    "pca_2.transform(scaled_df)"
   ]
  },
  {
   "cell_type": "code",
   "execution_count": null,
   "id": "54767fb7",
   "metadata": {},
   "outputs": [],
   "source": [
    "x_pca_2 = pd.DataFrame(pca_2.transform(scaled_df))\n",
    "x_pca_2"
   ]
  },
  {
   "cell_type": "code",
   "execution_count": null,
   "id": "e91155d9",
   "metadata": {},
   "outputs": [],
   "source": [
    "x_pca_2.columns = ['pc1', 'pc2']\n",
    "\n",
    "x_pca_2\n"
   ]
  },
  {
   "cell_type": "markdown",
   "id": "3aec1f9f-dc13-4d71-9a97-9478394d3e98",
   "metadata": {},
   "source": [
    "Agora é seguir todo o script da clusterização utilizada em Base Paises ou RFV"
   ]
  },
  {
   "cell_type": "code",
   "execution_count": null,
   "id": "c42ceb4b-062f-407a-8eb6-d9a7e14463fe",
   "metadata": {},
   "outputs": [],
   "source": []
  },
  {
   "cell_type": "code",
   "execution_count": null,
   "id": "9954d227-edb1-46c7-980f-6093ba582675",
   "metadata": {},
   "outputs": [],
   "source": []
  }
 ],
 "metadata": {
  "kernelspec": {
   "display_name": "Python 3 (ipykernel)",
   "language": "python",
   "name": "python3"
  },
  "language_info": {
   "codemirror_mode": {
    "name": "ipython",
    "version": 3
   },
   "file_extension": ".py",
   "mimetype": "text/x-python",
   "name": "python",
   "nbconvert_exporter": "python",
   "pygments_lexer": "ipython3",
   "version": "3.11.7"
  }
 },
 "nbformat": 4,
 "nbformat_minor": 5
}
