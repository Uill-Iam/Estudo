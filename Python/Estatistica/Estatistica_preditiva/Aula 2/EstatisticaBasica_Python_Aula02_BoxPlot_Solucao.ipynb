{
 "cells": [
  {
   "cell_type": "markdown",
   "id": "f45d6d77",
   "metadata": {
    "id": "f45d6d77"
   },
   "source": [
    "##  Analysis & Predictive Insights\n",
    "\n",
    "\n",
    "## Turma 90BI\n",
    "\n",
    "## Trabalho prático usando o Python\n",
    "\n",
    "## Habilidades desenvolvidas: Detecção de outliers.\n"
   ]
  },
  {
   "cell_type": "markdown",
   "id": "2f09cbef",
   "metadata": {
    "id": "2f09cbef"
   },
   "source": [
    "- Para media usamos o DP\n",
    "- Para a Mediana usamos IQR"
   ]
  },
  {
   "cell_type": "markdown",
   "id": "12e3d6b3",
   "metadata": {
    "id": "12e3d6b3"
   },
   "source": [
    "### Instalar as bibliotecas pandas, numpy, matplotlib e seaborn"
   ]
  },
  {
   "cell_type": "code",
   "execution_count": 1,
   "id": "1faa5e6c",
   "metadata": {},
   "outputs": [],
   "source": [
    "# Importar as bibliotecas\n",
    "import numpy as np\n",
    "import pandas as pd\n",
    "import matplotlib.pyplot as plt\n",
    "import seaborn as sns"
   ]
  },
  {
   "cell_type": "code",
   "execution_count": 28,
   "id": "4c24922b",
   "metadata": {},
   "outputs": [],
   "source": [
    "# opcao de mudar a notacao cientifica para aritmerica\n",
    "pd.set_option('display.float_format','{:.2f}'.format)"
   ]
  },
  {
   "cell_type": "code",
   "execution_count": 29,
   "id": "658e7822",
   "metadata": {},
   "outputs": [],
   "source": [
    "# Importar a base de dados\n",
    "cadastro = pd.read_csv('cadastro.csv')"
   ]
  },
  {
   "cell_type": "code",
   "execution_count": 30,
   "id": "8752e7ec",
   "metadata": {},
   "outputs": [
    {
     "data": {
      "text/html": [
       "<div>\n",
       "<style scoped>\n",
       "    .dataframe tbody tr th:only-of-type {\n",
       "        vertical-align: middle;\n",
       "    }\n",
       "\n",
       "    .dataframe tbody tr th {\n",
       "        vertical-align: top;\n",
       "    }\n",
       "\n",
       "    .dataframe thead th {\n",
       "        text-align: right;\n",
       "    }\n",
       "</style>\n",
       "<table border=\"1\" class=\"dataframe\">\n",
       "  <thead>\n",
       "    <tr style=\"text-align: right;\">\n",
       "      <th></th>\n",
       "      <th>Unnamed: 0</th>\n",
       "      <th>NUM_CPF</th>\n",
       "      <th>CHAVE_CONTRATO</th>\n",
       "      <th>DATA_NASCIMENTO</th>\n",
       "      <th>RENDA_PRESUMIDA</th>\n",
       "      <th>CEP</th>\n",
       "      <th>LOGRADOURO</th>\n",
       "      <th>NUMERO</th>\n",
       "      <th>COMPLEMENTO</th>\n",
       "      <th>CEP_A</th>\n",
       "      <th>...</th>\n",
       "      <th>NUM_AGENCIA</th>\n",
       "      <th>NUM_CONTA</th>\n",
       "      <th>MARCA_VEICULO</th>\n",
       "      <th>MODELO_VEICULO</th>\n",
       "      <th>PLACA_VEICULO</th>\n",
       "      <th>CNPJ_CREDOR</th>\n",
       "      <th>VALOR_DIVIDA</th>\n",
       "      <th>STATUS_CONSENTIMENTO</th>\n",
       "      <th>DATA_INCLUSAO1</th>\n",
       "      <th>IDADE</th>\n",
       "    </tr>\n",
       "  </thead>\n",
       "  <tbody>\n",
       "    <tr>\n",
       "      <th>0</th>\n",
       "      <td>1</td>\n",
       "      <td>40977545806</td>\n",
       "      <td>1</td>\n",
       "      <td>25/09/1996</td>\n",
       "      <td>1890000.00</td>\n",
       "      <td>2471020</td>\n",
       "      <td>R AUGUSTO VIANA DE CASTELO</td>\n",
       "      <td>26.00</td>\n",
       "      <td>NaN</td>\n",
       "      <td>2471020</td>\n",
       "      <td>...</td>\n",
       "      <td>NaN</td>\n",
       "      <td>NaN</td>\n",
       "      <td>NaN</td>\n",
       "      <td>NaN</td>\n",
       "      <td>NaN</td>\n",
       "      <td>3774819001508.00</td>\n",
       "      <td>220</td>\n",
       "      <td>1</td>\n",
       "      <td>2/26/2019 11:28:49</td>\n",
       "      <td>23.00</td>\n",
       "    </tr>\n",
       "    <tr>\n",
       "      <th>1</th>\n",
       "      <td>2</td>\n",
       "      <td>72544350725</td>\n",
       "      <td>2</td>\n",
       "      <td>10/03/1961</td>\n",
       "      <td>1333890.24</td>\n",
       "      <td>1319001</td>\n",
       "      <td>R MARIA PAULA</td>\n",
       "      <td>201.00</td>\n",
       "      <td>AP 52</td>\n",
       "      <td>1319001</td>\n",
       "      <td>...</td>\n",
       "      <td>6571.00</td>\n",
       "      <td>15044.00</td>\n",
       "      <td>FERRARI</td>\n",
       "      <td>355 SPIDER</td>\n",
       "      <td>AFZ6118</td>\n",
       "      <td>40432544000147.00</td>\n",
       "      <td>850</td>\n",
       "      <td>1</td>\n",
       "      <td>2/7/2001 0:00:00</td>\n",
       "      <td>40.00</td>\n",
       "    </tr>\n",
       "    <tr>\n",
       "      <th>2</th>\n",
       "      <td>3</td>\n",
       "      <td>10536099812</td>\n",
       "      <td>3</td>\n",
       "      <td>28/11/1965</td>\n",
       "      <td>22000.00</td>\n",
       "      <td>4323120</td>\n",
       "      <td>R DAS JOIAS</td>\n",
       "      <td>202.00</td>\n",
       "      <td>VL DO</td>\n",
       "      <td>4323120</td>\n",
       "      <td>...</td>\n",
       "      <td>7006.00</td>\n",
       "      <td>52946.00</td>\n",
       "      <td>NaN</td>\n",
       "      <td>NaN</td>\n",
       "      <td>NaN</td>\n",
       "      <td>61695227000193.00</td>\n",
       "      <td>142</td>\n",
       "      <td>1</td>\n",
       "      <td>8/23/2018 6:42:12</td>\n",
       "      <td>53.00</td>\n",
       "    </tr>\n",
       "    <tr>\n",
       "      <th>3</th>\n",
       "      <td>4</td>\n",
       "      <td>1471742873</td>\n",
       "      <td>4</td>\n",
       "      <td>02/05/1959</td>\n",
       "      <td>16000.00</td>\n",
       "      <td>4136030</td>\n",
       "      <td>R GUARAREMA</td>\n",
       "      <td>430.00</td>\n",
       "      <td>NaN</td>\n",
       "      <td>4136030</td>\n",
       "      <td>...</td>\n",
       "      <td>1850.00</td>\n",
       "      <td>1103486.00</td>\n",
       "      <td>NaN</td>\n",
       "      <td>NaN</td>\n",
       "      <td>NaN</td>\n",
       "      <td>NaN</td>\n",
       "      <td>0</td>\n",
       "      <td>1</td>\n",
       "      <td>NaN</td>\n",
       "      <td>NaN</td>\n",
       "    </tr>\n",
       "    <tr>\n",
       "      <th>4</th>\n",
       "      <td>5</td>\n",
       "      <td>954396332</td>\n",
       "      <td>5</td>\n",
       "      <td>10/11/1984</td>\n",
       "      <td>15929.00</td>\n",
       "      <td>8452105</td>\n",
       "      <td>R JOAO DE SIQUEIRA AFONSO</td>\n",
       "      <td>709.00</td>\n",
       "      <td>CAS</td>\n",
       "      <td>8452105</td>\n",
       "      <td>...</td>\n",
       "      <td>123.00</td>\n",
       "      <td>580882.00</td>\n",
       "      <td>NaN</td>\n",
       "      <td>NaN</td>\n",
       "      <td>NaN</td>\n",
       "      <td>35109651000107.00</td>\n",
       "      <td>400</td>\n",
       "      <td>1</td>\n",
       "      <td>11/24/2010 10:30:45</td>\n",
       "      <td>26.00</td>\n",
       "    </tr>\n",
       "  </tbody>\n",
       "</table>\n",
       "<p>5 rows × 30 columns</p>\n",
       "</div>"
      ],
      "text/plain": [
       "   Unnamed: 0      NUM_CPF  CHAVE_CONTRATO DATA_NASCIMENTO  RENDA_PRESUMIDA  \\\n",
       "0           1  40977545806               1      25/09/1996       1890000.00   \n",
       "1           2  72544350725               2      10/03/1961       1333890.24   \n",
       "2           3  10536099812               3      28/11/1965         22000.00   \n",
       "3           4   1471742873               4      02/05/1959         16000.00   \n",
       "4           5    954396332               5      10/11/1984         15929.00   \n",
       "\n",
       "       CEP                  LOGRADOURO  NUMERO COMPLEMENTO    CEP_A  ...  \\\n",
       "0  2471020  R AUGUSTO VIANA DE CASTELO   26.00         NaN  2471020  ...   \n",
       "1  1319001               R MARIA PAULA  201.00       AP 52  1319001  ...   \n",
       "2  4323120                 R DAS JOIAS  202.00       VL DO  4323120  ...   \n",
       "3  4136030                 R GUARAREMA  430.00         NaN  4136030  ...   \n",
       "4  8452105   R JOAO DE SIQUEIRA AFONSO  709.00         CAS  8452105  ...   \n",
       "\n",
       "  NUM_AGENCIA  NUM_CONTA MARCA_VEICULO  MODELO_VEICULO  PLACA_VEICULO  \\\n",
       "0         NaN        NaN           NaN             NaN            NaN   \n",
       "1     6571.00   15044.00       FERRARI      355 SPIDER        AFZ6118   \n",
       "2     7006.00   52946.00           NaN             NaN            NaN   \n",
       "3     1850.00 1103486.00           NaN             NaN            NaN   \n",
       "4      123.00  580882.00           NaN             NaN            NaN   \n",
       "\n",
       "        CNPJ_CREDOR  VALOR_DIVIDA  STATUS_CONSENTIMENTO       DATA_INCLUSAO1  \\\n",
       "0  3774819001508.00           220                     1   2/26/2019 11:28:49   \n",
       "1 40432544000147.00           850                     1     2/7/2001 0:00:00   \n",
       "2 61695227000193.00           142                     1    8/23/2018 6:42:12   \n",
       "3               NaN             0                     1                  NaN   \n",
       "4 35109651000107.00           400                     1  11/24/2010 10:30:45   \n",
       "\n",
       "   IDADE  \n",
       "0  23.00  \n",
       "1  40.00  \n",
       "2  53.00  \n",
       "3    NaN  \n",
       "4  26.00  \n",
       "\n",
       "[5 rows x 30 columns]"
      ]
     },
     "execution_count": 30,
     "metadata": {},
     "output_type": "execute_result"
    }
   ],
   "source": [
    "# Visualizar os dados\n",
    "cadastro.head()"
   ]
  },
  {
   "cell_type": "code",
   "execution_count": 85,
   "id": "5c187b27",
   "metadata": {},
   "outputs": [
    {
     "data": {
      "text/plain": [
       "count       426.00\n",
       "mean      10387.81\n",
       "std      111783.91\n",
       "min           0.00\n",
       "25%        2068.50\n",
       "50%        2431.58\n",
       "75%        2923.55\n",
       "max     1890000.00\n",
       "Name: RENDA_PRESUMIDA, dtype: float64"
      ]
     },
     "execution_count": 85,
     "metadata": {},
     "output_type": "execute_result"
    }
   ],
   "source": [
    "cadastro[\"RENDA_PRESUMIDA\"].describe()"
   ]
  },
  {
   "cell_type": "code",
   "execution_count": 84,
   "id": "b2005393",
   "metadata": {},
   "outputs": [],
   "source": [
    "cadastro.to_excel(\"teste.xlsx\")"
   ]
  },
  {
   "cell_type": "markdown",
   "id": "a89f57c9",
   "metadata": {
    "id": "a89f57c9"
   },
   "source": [
    "## Análise de detecção de outliers usando o Box Plot\n",
    "\n",
    "\n"
   ]
  },
  {
   "cell_type": "code",
   "execution_count": 52,
   "id": "87b59509",
   "metadata": {
    "id": "87b59509"
   },
   "outputs": [
    {
     "data": {
      "text/plain": [
       "<Axes: ylabel='RENDA_PRESUMIDA'>"
      ]
     },
     "execution_count": 52,
     "metadata": {},
     "output_type": "execute_result"
    },
    {
     "data": {
      "image/png": "[encoded data removed]",
      "text/plain": [
       "<Figure size 640x480 with 1 Axes>"
      ]
     },
     "metadata": {},
     "output_type": "display_data"
    }
   ],
   "source": [
    "sns.boxplot(y=\"RENDA_PRESUMIDA\", data=cadastro)"
   ]
  },
  {
   "cell_type": "code",
   "execution_count": 53,
   "id": "f67d003b",
   "metadata": {
    "id": "f67d003b"
   },
   "outputs": [
    {
     "data": {
      "text/plain": [
       "Text(0.5, 1.0, 'Histograma da renda presumida')"
      ]
     },
     "execution_count": 53,
     "metadata": {},
     "output_type": "execute_result"
    },
    {
     "data": {
      "image/png": "[encoded data removed]",
      "text/plain": [
       "<Figure size 640x480 with 1 Axes>"
      ]
     },
     "metadata": {},
     "output_type": "display_data"
    }
   ],
   "source": [
    "# Histograma da variável Renda presumida\n",
    "plt.hist(cadastro['RENDA_PRESUMIDA'], bins=5)\n",
    "plt.ylabel('Frequência')\n",
    "plt.xlabel('Renda presumida')\n",
    "plt.title('Histograma da renda presumida')"
   ]
  },
  {
   "cell_type": "markdown",
   "id": "0ab3fb2a",
   "metadata": {
    "id": "0ab3fb2a"
   },
   "source": [
    "## Cálculo dos limites que definem outliers e pontos extremos do Box Plot"
   ]
  },
  {
   "cell_type": "markdown",
   "id": "8b10616b",
   "metadata": {
    "id": "8b10616b"
   },
   "source": [
    "### Variável de análise: RENDA_PRESUMIDA"
   ]
  },
  {
   "cell_type": "code",
   "execution_count": 54,
   "id": "5f63fefa",
   "metadata": {},
   "outputs": [
    {
     "name": "stdout",
     "output_type": "stream",
     "text": [
      "Minimo =  0.0\n"
     ]
    }
   ],
   "source": [
    "# Cálculo do mínimo\n",
    "print('Minimo = ', min(cadastro['RENDA_PRESUMIDA']))"
   ]
  },
  {
   "cell_type": "code",
   "execution_count": 60,
   "id": "ef71007c",
   "metadata": {},
   "outputs": [
    {
     "name": "stdout",
     "output_type": "stream",
     "text": [
      "Maximo =  1890000.0\n"
     ]
    }
   ],
   "source": [
    "# Cálculo do máximo\n",
    "print('Maximo = ', max(cadastro['RENDA_PRESUMIDA']))"
   ]
  },
  {
   "cell_type": "code",
   "execution_count": 61,
   "id": "08df4f8f",
   "metadata": {},
   "outputs": [
    {
     "name": "stdout",
     "output_type": "stream",
     "text": [
      "2068.5\n",
      "Quartil1 (Q1) =  2068.5\n"
     ]
    }
   ],
   "source": [
    "# Cálculo do quartil 1\n",
    "Q1 = np.percentile(cadastro['RENDA_PRESUMIDA'], 25)\n",
    "print(Q1)\n",
    "print('Quartil1 (Q1) = ', np.percentile(cadastro['RENDA_PRESUMIDA'], 25))"
   ]
  },
  {
   "cell_type": "code",
   "execution_count": 62,
   "id": "775d171d",
   "metadata": {},
   "outputs": [
    {
     "name": "stdout",
     "output_type": "stream",
     "text": [
      "2431.58\n",
      "Quartil2 (Q2) =  2431.58\n"
     ]
    }
   ],
   "source": [
    "# Cálculo do quartil 2\n",
    "Q2=np.percentile(cadastro['RENDA_PRESUMIDA'], 50)\n",
    "print(Q2)\n",
    "print('Quartil2 (Q2) = ', np.percentile(cadastro['RENDA_PRESUMIDA'], 50))"
   ]
  },
  {
   "cell_type": "code",
   "execution_count": 63,
   "id": "fca00146",
   "metadata": {},
   "outputs": [
    {
     "name": "stdout",
     "output_type": "stream",
     "text": [
      "2923.545\n",
      "Quartil3 (Q3) =  2923.545\n"
     ]
    }
   ],
   "source": [
    "# Cálculo do quartil 3\n",
    "Q3=np.percentile(cadastro['RENDA_PRESUMIDA'], 75)\n",
    "print(Q3)\n",
    "print('Quartil3 (Q3) = ', np.percentile(cadastro['RENDA_PRESUMIDA'], 75))"
   ]
  },
  {
   "cell_type": "code",
   "execution_count": 64,
   "id": "b5d00fbb",
   "metadata": {},
   "outputs": [
    {
     "name": "stdout",
     "output_type": "stream",
     "text": [
      "855.0450000000001\n",
      "Inter-quartil (IQ) = 855.0450000000001\n"
     ]
    }
   ],
   "source": [
    "# Cálculo do interquartil (IQ)\n",
    "IQ = np.percentile(cadastro['RENDA_PRESUMIDA'], 75) - np.percentile(cadastro['RENDA_PRESUMIDA'], 25)\n",
    "print(IQ)\n",
    "print('Inter-quartil (IQ) =', np.percentile(cadastro['RENDA_PRESUMIDA'], 75) - np.percentile(cadastro['RENDA_PRESUMIDA'], 25))"
   ]
  },
  {
   "cell_type": "code",
   "execution_count": 72,
   "id": "6e7f4844",
   "metadata": {},
   "outputs": [
    {
     "name": "stdout",
     "output_type": "stream",
     "text": [
      "5488.68\n"
     ]
    }
   ],
   "source": [
    "# Limite 1\n",
    "limite1 = Q3+3*IQ\n",
    "print(limite1)"
   ]
  },
  {
   "cell_type": "code",
   "execution_count": 73,
   "id": "fc64d8ec",
   "metadata": {},
   "outputs": [
    {
     "name": "stdout",
     "output_type": "stream",
     "text": [
      "4206.1125\n"
     ]
    }
   ],
   "source": [
    "#Limite 2\n",
    "limite2 = Q3+1.5*IQ\n",
    "print(limite2)"
   ]
  },
  {
   "cell_type": "code",
   "execution_count": 67,
   "id": "ce3aa047",
   "metadata": {},
   "outputs": [
    {
     "name": "stdout",
     "output_type": "stream",
     "text": [
      "785.9324999999999\n"
     ]
    }
   ],
   "source": [
    "#Limite 3\n",
    "limite3=Q1-1.5*IQ\n",
    "print(limite3)"
   ]
  },
  {
   "cell_type": "code",
   "execution_count": 68,
   "id": "f4db56f0",
   "metadata": {},
   "outputs": [
    {
     "name": "stdout",
     "output_type": "stream",
     "text": [
      "-496.6350000000002\n"
     ]
    }
   ],
   "source": [
    "#Limite 4\n",
    "limite4 = Q1-3*IQ\n",
    "print(limite4)"
   ]
  },
  {
   "cell_type": "code",
   "execution_count": 77,
   "id": "6a0b848d",
   "metadata": {},
   "outputs": [],
   "source": [
    "# Criar uma variável outlier_renda no Data Frame, sendo 0 = não outlier, 1= outlier e 2 = ponto extremo\n",
    "cadastro.loc[(cadastro.RENDA_PRESUMIDA >= limite2) & (cadastro.RENDA_PRESUMIDA <= limite1), 'outlier_renda']=1\n",
    "cadastro.loc[(cadastro.RENDA_PRESUMIDA > limite1) | (cadastro.RENDA_PRESUMIDA < limite4) , 'outlier_renda']=2\n",
    "cadastro.loc[(cadastro.RENDA_PRESUMIDA >= limite4) & (cadastro.RENDA_PRESUMIDA <= limite3) , 'outlier_renda']=1\n",
    "cadastro.loc[(cadastro.RENDA_PRESUMIDA > limite3) & (cadastro.RENDA_PRESUMIDA < limite2), 'outlier_renda']=0"
   ]
  },
  {
   "cell_type": "code",
   "execution_count": 78,
   "id": "101021c3",
   "metadata": {},
   "outputs": [
    {
     "data": {
      "text/html": [
       "<div>\n",
       "<style scoped>\n",
       "    .dataframe tbody tr th:only-of-type {\n",
       "        vertical-align: middle;\n",
       "    }\n",
       "\n",
       "    .dataframe tbody tr th {\n",
       "        vertical-align: top;\n",
       "    }\n",
       "\n",
       "    .dataframe thead th {\n",
       "        text-align: right;\n",
       "    }\n",
       "</style>\n",
       "<table border=\"1\" class=\"dataframe\">\n",
       "  <thead>\n",
       "    <tr style=\"text-align: right;\">\n",
       "      <th></th>\n",
       "      <th>Unnamed: 0</th>\n",
       "      <th>NUM_CPF</th>\n",
       "      <th>CHAVE_CONTRATO</th>\n",
       "      <th>DATA_NASCIMENTO</th>\n",
       "      <th>RENDA_PRESUMIDA</th>\n",
       "      <th>CEP</th>\n",
       "      <th>LOGRADOURO</th>\n",
       "      <th>NUMERO</th>\n",
       "      <th>COMPLEMENTO</th>\n",
       "      <th>CEP_A</th>\n",
       "      <th>...</th>\n",
       "      <th>NUM_CONTA</th>\n",
       "      <th>MARCA_VEICULO</th>\n",
       "      <th>MODELO_VEICULO</th>\n",
       "      <th>PLACA_VEICULO</th>\n",
       "      <th>CNPJ_CREDOR</th>\n",
       "      <th>VALOR_DIVIDA</th>\n",
       "      <th>STATUS_CONSENTIMENTO</th>\n",
       "      <th>DATA_INCLUSAO1</th>\n",
       "      <th>IDADE</th>\n",
       "      <th>outlier_renda</th>\n",
       "    </tr>\n",
       "  </thead>\n",
       "  <tbody>\n",
       "    <tr>\n",
       "      <th>0</th>\n",
       "      <td>1</td>\n",
       "      <td>40977545806</td>\n",
       "      <td>1</td>\n",
       "      <td>25/09/1996</td>\n",
       "      <td>1890000.00</td>\n",
       "      <td>2471020</td>\n",
       "      <td>R AUGUSTO VIANA DE CASTELO</td>\n",
       "      <td>26.00</td>\n",
       "      <td>NaN</td>\n",
       "      <td>2471020</td>\n",
       "      <td>...</td>\n",
       "      <td>NaN</td>\n",
       "      <td>NaN</td>\n",
       "      <td>NaN</td>\n",
       "      <td>NaN</td>\n",
       "      <td>3774819001508.00</td>\n",
       "      <td>220</td>\n",
       "      <td>1</td>\n",
       "      <td>2/26/2019 11:28:49</td>\n",
       "      <td>23.00</td>\n",
       "      <td>2.00</td>\n",
       "    </tr>\n",
       "    <tr>\n",
       "      <th>1</th>\n",
       "      <td>2</td>\n",
       "      <td>72544350725</td>\n",
       "      <td>2</td>\n",
       "      <td>10/03/1961</td>\n",
       "      <td>1333890.24</td>\n",
       "      <td>1319001</td>\n",
       "      <td>R MARIA PAULA</td>\n",
       "      <td>201.00</td>\n",
       "      <td>AP 52</td>\n",
       "      <td>1319001</td>\n",
       "      <td>...</td>\n",
       "      <td>15044.00</td>\n",
       "      <td>FERRARI</td>\n",
       "      <td>355 SPIDER</td>\n",
       "      <td>AFZ6118</td>\n",
       "      <td>40432544000147.00</td>\n",
       "      <td>850</td>\n",
       "      <td>1</td>\n",
       "      <td>2/7/2001 0:00:00</td>\n",
       "      <td>40.00</td>\n",
       "      <td>2.00</td>\n",
       "    </tr>\n",
       "    <tr>\n",
       "      <th>2</th>\n",
       "      <td>3</td>\n",
       "      <td>10536099812</td>\n",
       "      <td>3</td>\n",
       "      <td>28/11/1965</td>\n",
       "      <td>22000.00</td>\n",
       "      <td>4323120</td>\n",
       "      <td>R DAS JOIAS</td>\n",
       "      <td>202.00</td>\n",
       "      <td>VL DO</td>\n",
       "      <td>4323120</td>\n",
       "      <td>...</td>\n",
       "      <td>52946.00</td>\n",
       "      <td>NaN</td>\n",
       "      <td>NaN</td>\n",
       "      <td>NaN</td>\n",
       "      <td>61695227000193.00</td>\n",
       "      <td>142</td>\n",
       "      <td>1</td>\n",
       "      <td>8/23/2018 6:42:12</td>\n",
       "      <td>53.00</td>\n",
       "      <td>2.00</td>\n",
       "    </tr>\n",
       "    <tr>\n",
       "      <th>3</th>\n",
       "      <td>4</td>\n",
       "      <td>1471742873</td>\n",
       "      <td>4</td>\n",
       "      <td>02/05/1959</td>\n",
       "      <td>16000.00</td>\n",
       "      <td>4136030</td>\n",
       "      <td>R GUARAREMA</td>\n",
       "      <td>430.00</td>\n",
       "      <td>NaN</td>\n",
       "      <td>4136030</td>\n",
       "      <td>...</td>\n",
       "      <td>1103486.00</td>\n",
       "      <td>NaN</td>\n",
       "      <td>NaN</td>\n",
       "      <td>NaN</td>\n",
       "      <td>NaN</td>\n",
       "      <td>0</td>\n",
       "      <td>1</td>\n",
       "      <td>NaN</td>\n",
       "      <td>NaN</td>\n",
       "      <td>2.00</td>\n",
       "    </tr>\n",
       "    <tr>\n",
       "      <th>4</th>\n",
       "      <td>5</td>\n",
       "      <td>954396332</td>\n",
       "      <td>5</td>\n",
       "      <td>10/11/1984</td>\n",
       "      <td>15929.00</td>\n",
       "      <td>8452105</td>\n",
       "      <td>R JOAO DE SIQUEIRA AFONSO</td>\n",
       "      <td>709.00</td>\n",
       "      <td>CAS</td>\n",
       "      <td>8452105</td>\n",
       "      <td>...</td>\n",
       "      <td>580882.00</td>\n",
       "      <td>NaN</td>\n",
       "      <td>NaN</td>\n",
       "      <td>NaN</td>\n",
       "      <td>35109651000107.00</td>\n",
       "      <td>400</td>\n",
       "      <td>1</td>\n",
       "      <td>11/24/2010 10:30:45</td>\n",
       "      <td>26.00</td>\n",
       "      <td>2.00</td>\n",
       "    </tr>\n",
       "  </tbody>\n",
       "</table>\n",
       "<p>5 rows × 31 columns</p>\n",
       "</div>"
      ],
      "text/plain": [
       "   Unnamed: 0      NUM_CPF  CHAVE_CONTRATO DATA_NASCIMENTO  RENDA_PRESUMIDA  \\\n",
       "0           1  40977545806               1      25/09/1996       1890000.00   \n",
       "1           2  72544350725               2      10/03/1961       1333890.24   \n",
       "2           3  10536099812               3      28/11/1965         22000.00   \n",
       "3           4   1471742873               4      02/05/1959         16000.00   \n",
       "4           5    954396332               5      10/11/1984         15929.00   \n",
       "\n",
       "       CEP                  LOGRADOURO  NUMERO COMPLEMENTO    CEP_A  ...  \\\n",
       "0  2471020  R AUGUSTO VIANA DE CASTELO   26.00         NaN  2471020  ...   \n",
       "1  1319001               R MARIA PAULA  201.00       AP 52  1319001  ...   \n",
       "2  4323120                 R DAS JOIAS  202.00       VL DO  4323120  ...   \n",
       "3  4136030                 R GUARAREMA  430.00         NaN  4136030  ...   \n",
       "4  8452105   R JOAO DE SIQUEIRA AFONSO  709.00         CAS  8452105  ...   \n",
       "\n",
       "   NUM_CONTA MARCA_VEICULO MODELO_VEICULO  PLACA_VEICULO       CNPJ_CREDOR  \\\n",
       "0        NaN           NaN            NaN            NaN  3774819001508.00   \n",
       "1   15044.00       FERRARI     355 SPIDER        AFZ6118 40432544000147.00   \n",
       "2   52946.00           NaN            NaN            NaN 61695227000193.00   \n",
       "3 1103486.00           NaN            NaN            NaN               NaN   \n",
       "4  580882.00           NaN            NaN            NaN 35109651000107.00   \n",
       "\n",
       "   VALOR_DIVIDA  STATUS_CONSENTIMENTO       DATA_INCLUSAO1  IDADE  \\\n",
       "0           220                     1   2/26/2019 11:28:49  23.00   \n",
       "1           850                     1     2/7/2001 0:00:00  40.00   \n",
       "2           142                     1    8/23/2018 6:42:12  53.00   \n",
       "3             0                     1                  NaN    NaN   \n",
       "4           400                     1  11/24/2010 10:30:45  26.00   \n",
       "\n",
       "   outlier_renda  \n",
       "0           2.00  \n",
       "1           2.00  \n",
       "2           2.00  \n",
       "3           2.00  \n",
       "4           2.00  \n",
       "\n",
       "[5 rows x 31 columns]"
      ]
     },
     "execution_count": 78,
     "metadata": {},
     "output_type": "execute_result"
    }
   ],
   "source": [
    "cadastro.head()"
   ]
  },
  {
   "cell_type": "code",
   "execution_count": 79,
   "id": "774708b4",
   "metadata": {},
   "outputs": [],
   "source": [
    "# Tabela de frequência da variável outlier_renda\n",
    "\n",
    "freq_outlier_renda = pd.pivot_table(cadastro,index='outlier_renda', values='NUM_CPF', aggfunc=np.count_nonzero)\n",
    "freq_outlier_renda['%'] = ((pd.pivot_table(cadastro,index='outlier_renda', values='NUM_CPF', aggfunc=np.count_nonzero)/cadastro['NUM_CPF'].count())*100).round(2)"
   ]
  },
  {
   "cell_type": "code",
   "execution_count": 81,
   "id": "0c075485",
   "metadata": {},
   "outputs": [
    {
     "data": {
      "text/html": [
       "<div>\n",
       "<style scoped>\n",
       "    .dataframe tbody tr th:only-of-type {\n",
       "        vertical-align: middle;\n",
       "    }\n",
       "\n",
       "    .dataframe tbody tr th {\n",
       "        vertical-align: top;\n",
       "    }\n",
       "\n",
       "    .dataframe thead th {\n",
       "        text-align: right;\n",
       "    }\n",
       "</style>\n",
       "<table border=\"1\" class=\"dataframe\">\n",
       "  <thead>\n",
       "    <tr style=\"text-align: right;\">\n",
       "      <th></th>\n",
       "      <th>NUM_CPF</th>\n",
       "      <th>%</th>\n",
       "    </tr>\n",
       "    <tr>\n",
       "      <th>outlier_renda</th>\n",
       "      <th></th>\n",
       "      <th></th>\n",
       "    </tr>\n",
       "  </thead>\n",
       "  <tbody>\n",
       "    <tr>\n",
       "      <th>0.00</th>\n",
       "      <td>368</td>\n",
       "      <td>86.38</td>\n",
       "    </tr>\n",
       "    <tr>\n",
       "      <th>1.00</th>\n",
       "      <td>38</td>\n",
       "      <td>8.92</td>\n",
       "    </tr>\n",
       "    <tr>\n",
       "      <th>2.00</th>\n",
       "      <td>20</td>\n",
       "      <td>4.69</td>\n",
       "    </tr>\n",
       "  </tbody>\n",
       "</table>\n",
       "</div>"
      ],
      "text/plain": [
       "               NUM_CPF     %\n",
       "outlier_renda               \n",
       "0.00               368 86.38\n",
       "1.00                38  8.92\n",
       "2.00                20  4.69"
      ]
     },
     "execution_count": 81,
     "metadata": {},
     "output_type": "execute_result"
    }
   ],
   "source": [
    "freq_outlier_renda"
   ]
  },
  {
   "cell_type": "code",
   "execution_count": 80,
   "id": "124c61b1",
   "metadata": {},
   "outputs": [
    {
     "name": "stdout",
     "output_type": "stream",
     "text": [
      "Mínimo =  1825.32\n",
      "Máximo =  4200.0\n",
      "Média =  2489.861630434783\n",
      "STD =  517.4251707755459\n",
      "Coeficiente de Variação =  0.20781282158446387\n",
      "Mediana =  2400.0\n"
     ]
    }
   ],
   "source": [
    "################################################\n",
    "########### REMOVER OS OUTLIERS ############\n",
    "################################################\n",
    "\n",
    "# Removendo os Outliers\n",
    "cadastroSemOutlier = cadastro.loc[cadastro.outlier_renda == 0.0]\n",
    "\n",
    "print('Mínimo = ', min(cadastroSemOutlier['RENDA_PRESUMIDA']))\n",
    "\n",
    "print('Máximo = ', max(cadastroSemOutlier['RENDA_PRESUMIDA']))\n",
    "\n",
    "print('Média = ', (cadastroSemOutlier['RENDA_PRESUMIDA']).mean())\n",
    "\n",
    "print('STD = ', cadastroSemOutlier['RENDA_PRESUMIDA'].std())\n",
    "\n",
    "print('Coeficiente de Variação = ', (cadastroSemOutlier['RENDA_PRESUMIDA'].std() / cadastroSemOutlier['RENDA_PRESUMIDA'].mean()))\n",
    "\n",
    "print('Mediana = ', (cadastroSemOutlier['RENDA_PRESUMIDA']).median())\n"
   ]
  },
  {
   "cell_type": "markdown",
   "id": "efb4a861",
   "metadata": {},
   "source": [
    "Se o coeficiente d evariação estiver até 30% não tem outlier"
   ]
  },
  {
   "cell_type": "code",
   "execution_count": null,
   "id": "16a6069f",
   "metadata": {},
   "outputs": [],
   "source": []
  },
  {
   "cell_type": "code",
   "execution_count": 82,
   "id": "32f3c027",
   "metadata": {},
   "outputs": [
    {
     "data": {
      "text/plain": [
       "Text(0.5, 1.0, 'Histograma da renda presumida')"
      ]
     },
     "execution_count": 82,
     "metadata": {},
     "output_type": "execute_result"
    },
    {
     "data": {
      "image/png": "[encoded data removed]",
      "text/plain": [
       "<Figure size 640x480 with 1 Axes>"
      ]
     },
     "metadata": {},
     "output_type": "display_data"
    }
   ],
   "source": [
    "# Histograma da variável Renda presumida\n",
    "plt.hist(cadastroSemOutlier['RENDA_PRESUMIDA'], bins=5)\n",
    "plt.ylabel('Frequência')\n",
    "plt.xlabel('Renda presumida')\n",
    "plt.title('Histograma da renda presumida')"
   ]
  },
  {
   "cell_type": "code",
   "execution_count": null,
   "id": "022f5848",
   "metadata": {},
   "outputs": [],
   "source": []
  },
  {
   "cell_type": "code",
   "execution_count": 83,
   "id": "0281ad62",
   "metadata": {},
   "outputs": [
    {
     "data": {
      "text/plain": [
       "Text(0.5, 0, 'RENDA_PRESUMIDA (R$)')"
      ]
     },
     "execution_count": 83,
     "metadata": {},
     "output_type": "execute_result"
    },
    {
     "data": {
      "image/png": "[encoded data removed]",
      "text/plain": [
       "<Figure size 2000x400 with 2 Axes>"
      ]
     },
     "metadata": {},
     "output_type": "display_data"
    }
   ],
   "source": [
    "# Gráfico histograma da Ingestão de Sal e Z_score_sal\n",
    "fig, axes = plt.subplots(nrows=1, ncols=2,figsize=(20,4))\n",
    "\n",
    "plt.subplot(1,2,1)\n",
    "plt.hist(cadastro['RENDA_PRESUMIDA'], bins=10)\n",
    "plt.ylabel('Frequência')\n",
    "plt.xlabel('RENDA_PRESUMIDA (R$)')\n",
    "plt.subplot(1,2,2)\n",
    "plt.hist(cadastroSemOutlier['RENDA_PRESUMIDA'], bins=10)\n",
    "plt.ylabel('Frequência')\n",
    "plt.xlabel('RENDA_PRESUMIDA (R$)')"
   ]
  },
  {
   "cell_type": "code",
   "execution_count": null,
   "id": "51a7da0e",
   "metadata": {},
   "outputs": [],
   "source": []
  }
 ],
 "metadata": {
  "colab": {
   "provenance": []
  },
  "kernelspec": {
   "display_name": "Python 3 (ipykernel)",
   "language": "python",
   "name": "python3"
  },
  "language_info": {
   "codemirror_mode": {
    "name": "ipython",
    "version": 3
   },
   "file_extension": ".py",
   "mimetype": "text/x-python",
   "name": "python",
   "nbconvert_exporter": "python",
   "pygments_lexer": "ipython3",
   "version": "3.11.9"
  }
 },
 "nbformat": 4,
 "nbformat_minor": 5
}
