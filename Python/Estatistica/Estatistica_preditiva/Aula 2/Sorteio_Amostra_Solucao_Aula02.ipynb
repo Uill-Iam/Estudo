{
 "cells": [
  {
   "cell_type": "markdown",
   "metadata": {},
   "source": [
    "##  Analysis & Predictive Insights\n",
    "\n",
    "## Turma 90BI\n",
    "\n",
    "### Sorteio de amostra probabilística e cálculo do Intervalo de confiança de 95%"
   ]
  },
  {
   "cell_type": "code",
   "execution_count": null,
   "metadata": {},
   "outputs": [],
   "source": [
    "# Importar as bibliotecas\n",
    "\n",
    "import numpy as np\n",
    "import pandas as pd\n",
    "import matplotlib.pyplot as plt\n",
    "import seaborn as sns\n"
   ]
  },
  {
   "cell_type": "markdown",
   "metadata": {},
   "source": [
    "Contexto dos dados\n",
    "\n",
    "A gerente da área de Marketing Relacionamento da empresa XYZ tem observado, nas últimas campanhas, \n",
    "um aumento no número de clientes não contatados. Uma das estratégias para melhorar esse quadro é a \n",
    "utilização de outros canais de relacionamento. A gerente deseja testar os canais de relacionamento \n",
    "em uma amostra de tamanho igual a 40.\n",
    "\n",
    "#### Dicionário de variáveis:\n",
    "\n",
    "#### Sexo: 2=Masculino;4=Feminino\n",
    "\n",
    "#### Idade: Idade \n",
    "\n",
    "#### Cor_pele:0=missing; 2=Branca; 4=Preta; 6=Amarela; 8 = Parda\n",
    "\n",
    "#### Telefone móvel:2=Sim; 4=Não\n",
    "\n",
    "#### Anos_estudo: Anos de estudo"
   ]
  },
  {
   "cell_type": "markdown",
   "metadata": {},
   "source": [
    "# Importar o arquivo de dados"
   ]
  },
  {
   "cell_type": "code",
   "execution_count": null,
   "metadata": {},
   "outputs": [],
   "source": [
    "# Importar o arquivo Arq_trab2.csv\n",
    "\n",
    "df = pd.read_csv('Arq_trab2.csv')"
   ]
  },
  {
   "cell_type": "code",
   "execution_count": null,
   "metadata": {},
   "outputs": [],
   "source": [
    "df.head()"
   ]
  },
  {
   "cell_type": "code",
   "execution_count": null,
   "metadata": {},
   "outputs": [],
   "source": [
    "df.info()"
   ]
  },
  {
   "cell_type": "code",
   "execution_count": null,
   "metadata": {},
   "outputs": [],
   "source": [
    "# mudar o formato da variável number para string\n",
    "\n",
    "df['Sexo'] = df['Sexo'].astype(str)\n",
    "df['Cor_pele'] = df['Cor_pele'].astype(str)\n",
    "df['Telefone_movel'] = df['Telefone_movel'].astype(str)"
   ]
  },
  {
   "cell_type": "code",
   "execution_count": null,
   "metadata": {},
   "outputs": [],
   "source": [
    "df.info()"
   ]
  },
  {
   "cell_type": "markdown",
   "metadata": {},
   "source": [
    "# Tabela de Frequência da População"
   ]
  },
  {
   "cell_type": "code",
   "execution_count": null,
   "metadata": {},
   "outputs": [],
   "source": [
    "sexo =pd.pivot_table(df, index='Sexo', values='ID', aggfunc=np.count_nonzero)"
   ]
  },
  {
   "cell_type": "code",
   "execution_count": null,
   "metadata": {},
   "outputs": [],
   "source": [
    "sexo['%'] = (pd.pivot_table(df, index='Sexo', values='ID', aggfunc=np.count_nonzero))/df['ID'].count()*100"
   ]
  },
  {
   "cell_type": "code",
   "execution_count": null,
   "metadata": {},
   "outputs": [],
   "source": [
    "sexo"
   ]
  },
  {
   "cell_type": "markdown",
   "metadata": {},
   "source": [
    "# Medidas resumo da Idade e Anos de estudo da População"
   ]
  },
  {
   "cell_type": "code",
   "execution_count": null,
   "metadata": {},
   "outputs": [],
   "source": [
    "df.describe()"
   ]
  },
  {
   "cell_type": "code",
   "execution_count": null,
   "metadata": {},
   "outputs": [],
   "source": []
  },
  {
   "cell_type": "markdown",
   "metadata": {},
   "source": [
    "# Sorteio da amostra probabilística"
   ]
  },
  {
   "cell_type": "code",
   "execution_count": null,
   "metadata": {},
   "outputs": [],
   "source": [
    "df_sample = df.sample(n=40, random_state=1)"
   ]
  },
  {
   "cell_type": "code",
   "execution_count": null,
   "metadata": {},
   "outputs": [],
   "source": [
    "df_sample.head()"
   ]
  },
  {
   "cell_type": "code",
   "execution_count": null,
   "metadata": {},
   "outputs": [],
   "source": [
    "df_sample.info()"
   ]
  },
  {
   "cell_type": "markdown",
   "metadata": {},
   "source": [
    "# Tabela de Frequência da Amostra"
   ]
  },
  {
   "cell_type": "code",
   "execution_count": null,
   "metadata": {},
   "outputs": [],
   "source": [
    "sexo_ams =pd.pivot_table(df_sample, index='Sexo', values='ID', aggfunc=np.count_nonzero)"
   ]
  },
  {
   "cell_type": "code",
   "execution_count": null,
   "metadata": {},
   "outputs": [],
   "source": [
    "sexo_ams['%'] = (pd.pivot_table(df_sample, index='Sexo', values='ID', aggfunc=np.count_nonzero))/df_sample['ID'].count()*100"
   ]
  },
  {
   "cell_type": "code",
   "execution_count": null,
   "metadata": {},
   "outputs": [],
   "source": [
    "sexo_ams"
   ]
  },
  {
   "cell_type": "markdown",
   "metadata": {},
   "source": [
    "# Medidas resumo da Idade e Anos de estudo da Amostra"
   ]
  },
  {
   "cell_type": "code",
   "execution_count": null,
   "metadata": {},
   "outputs": [],
   "source": [
    "df_sample.describe()"
   ]
  },
  {
   "cell_type": "code",
   "execution_count": null,
   "metadata": {},
   "outputs": [],
   "source": []
  },
  {
   "cell_type": "markdown",
   "metadata": {},
   "source": [
    "### Cálculo do Intervalo de Confiança de 95% para proporção\n",
    "\n",
    "#### Limite inferior = p - 1.96*sqrt(p*q)\n",
    "#### Limite superior = p + 1.96*sqrt(p*q)\n",
    "\n",
    "#### nível de confiança de 95% = 1.96\n",
    "#### p=proporção de usuários de telefone móvel\n",
    "#### q= 1-p = proporção de usuários sem telefone móvel"
   ]
  },
  {
   "cell_type": "markdown",
   "metadata": {},
   "source": []
  },
  {
   "cell_type": "markdown",
   "metadata": {},
   "source": [
    "### Cálculo da proporção de clientes com telefone\n",
    "\n",
    "### Alterar o número de clientes com telefone móvel (k)\n",
    "### prop_tel=k/40\n"
   ]
  },
  {
   "cell_type": "code",
   "execution_count": null,
   "metadata": {},
   "outputs": [],
   "source": [
    "telefone_ams =pd.pivot_table(df_sample, index='Telefone_movel', values='ID', aggfunc=np.count_nonzero)"
   ]
  },
  {
   "cell_type": "code",
   "execution_count": null,
   "metadata": {},
   "outputs": [],
   "source": [
    "telefone_ams['%'] = (pd.pivot_table(df_sample, index='Telefone_movel', values='ID', aggfunc=np.count_nonzero))/df_sample['ID'].count()*100"
   ]
  },
  {
   "cell_type": "code",
   "execution_count": null,
   "metadata": {},
   "outputs": [],
   "source": [
    "telefone_ams"
   ]
  },
  {
   "cell_type": "code",
   "execution_count": null,
   "metadata": {},
   "outputs": [],
   "source": [
    "import math as math"
   ]
  },
  {
   "cell_type": "code",
   "execution_count": null,
   "metadata": {},
   "outputs": [],
   "source": [
    "# Cálculo do Erro padrão\n",
    "\n",
    "# 1 passo: criar a variável dummy se tem telefone móvel\n",
    "df_sample.loc[(df_sample.Telefone_movel == 1), 'amostra_clientes_com_telefone']=1\n",
    "\n",
    "# 2 passo: somar as pessoas com telefone móvel\n",
    "amostra_clientes_com_telefone = df_sample['amostra_clientes_com_telefone'].sum()\n",
    "\n",
    "# 3 passo: tamanho da amostra\n",
    "tamanho_amostra = len(df_sample)\n",
    "\n",
    "\n",
    "# 4 passo: calcular a proporcao de clientes com telefone\n",
    "prop_telefone = amostra_clientes_com_telefone/tamanho_amostra\n",
    "\n",
    "# 5 passo: calcular o erro padrão\n",
    "erro_padrao = math.pow((prop_telefone*(1-prop_telefone)/tamanho_amostra), 1/2)"
   ]
  },
  {
   "cell_type": "code",
   "execution_count": null,
   "metadata": {},
   "outputs": [],
   "source": [
    "erro_padrao"
   ]
  },
  {
   "cell_type": "code",
   "execution_count": null,
   "metadata": {},
   "outputs": [],
   "source": [
    "#Margem de erro\n",
    "margem_erro = 1.96*erro_padrao"
   ]
  },
  {
   "cell_type": "code",
   "execution_count": null,
   "metadata": {},
   "outputs": [],
   "source": [
    "margem_erro"
   ]
  },
  {
   "cell_type": "code",
   "execution_count": null,
   "metadata": {},
   "outputs": [],
   "source": [
    "#Limite inferior do intercalo de confiança\n",
    "limite_inferior = prop_telefone - margem_erro"
   ]
  },
  {
   "cell_type": "code",
   "execution_count": null,
   "metadata": {},
   "outputs": [],
   "source": [
    "limite_inferior"
   ]
  },
  {
   "cell_type": "code",
   "execution_count": null,
   "metadata": {},
   "outputs": [],
   "source": [
    "#Limite superior do intervalo de confiança\n",
    "limite_superior = prop_telefone + margem_erro"
   ]
  },
  {
   "cell_type": "code",
   "execution_count": null,
   "metadata": {},
   "outputs": [],
   "source": [
    "limite_superior "
   ]
  },
  {
   "cell_type": "code",
   "execution_count": null,
   "metadata": {},
   "outputs": [],
   "source": []
  }
 ],
 "metadata": {
  "kernelspec": {
   "display_name": "Python 3 (ipykernel)",
   "language": "python",
   "name": "python3"
  },
  "language_info": {
   "codemirror_mode": {
    "name": "ipython",
    "version": 3
   },
   "file_extension": ".py",
   "mimetype": "text/x-python",
   "name": "python",
   "nbconvert_exporter": "python",
   "pygments_lexer": "ipython3",
   "version": "3.11.7"
  }
 },
 "nbformat": 4,
 "nbformat_minor": 4
}
