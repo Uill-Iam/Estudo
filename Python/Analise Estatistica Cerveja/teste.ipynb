{
 "cells": [
  {
   "cell_type": "code",
   "execution_count": 4,
   "metadata": {},
   "outputs": [
    {
     "name": "stdout",
     "output_type": "stream",
     "text": [
      "                            OLS Regression Results                            \n",
      "==============================================================================\n",
      "Dep. Variable:                visitas   R-squared:                       0.999\n",
      "Model:                            OLS   Adj. R-squared:                  0.998\n",
      "Method:                 Least Squares   F-statistic:                     2343.\n",
      "Date:                Fri, 19 Jul 2024   Prob (F-statistic):           1.94e-05\n",
      "Time:                        13:26:23   Log-Likelihood:                -1.4254\n",
      "No. Observations:                   5   AIC:                             6.851\n",
      "Df Residuals:                       3   BIC:                             6.070\n",
      "Df Model:                           1                                         \n",
      "Covariance Type:            nonrobust                                         \n",
      "==============================================================================\n",
      "                 coef    std err          t      P>|t|      [0.025      0.975]\n",
      "------------------------------------------------------------------------------\n",
      "const        -29.1649      1.548    -18.845      0.000     -34.090     -24.240\n",
      "excursoes      0.5136      0.011     48.400      0.000       0.480       0.547\n",
      "==============================================================================\n",
      "Omnibus:                          nan   Durbin-Watson:                   2.735\n",
      "Prob(Omnibus):                    nan   Jarque-Bera (JB):                0.250\n",
      "Skew:                           0.389   Prob(JB):                        0.882\n",
      "Kurtosis:                       2.228   Cond. No.                     1.22e+03\n",
      "==============================================================================\n",
      "\n",
      "Notes:\n",
      "[1] Standard Errors assume that the covariance matrix of the errors is correctly specified.\n",
      "[2] The condition number is large, 1.22e+03. This might indicate that there are\n",
      "strong multicollinearity or other numerical problems.\n"
     ]
    },
    {
     "name": "stderr",
     "output_type": "stream",
     "text": [
      "C:\\Users\\uilli\\AppData\\Local\\Packages\\PythonSoftwareFoundation.Python.3.11_qbz5n2kfra8p0\\LocalCache\\local-packages\\Python311\\site-packages\\statsmodels\\stats\\stattools.py:74: ValueWarning: omni_normtest is not valid with less than 8 observations; 5 samples were given.\n",
      "  warn(\"omni_normtest is not valid with less than 8 observations; %i \"\n"
     ]
    }
   ],
   "source": [
    "import pandas as pd\n",
    "import statsmodels.api as sm\n",
    "\n",
    "# Exemplo de dados fictícios\n",
    "data = {\n",
    "    'excursoes': [115, 135, 155, 157, 162],\n",
    "    'visitas': [30, 40, 50, 52, 54]\n",
    "}\n",
    "df = pd.DataFrame(data)\n",
    "\n",
    "# Definindo a variável dependente e a variável independente\n",
    "y = df['visitas']\n",
    "X = df['excursoes']\n",
    "\n",
    "# Adicionando a constante para o termo de intercepto\n",
    "X = sm.add_constant(X)\n",
    "\n",
    "# Criando e ajustando o modelo OLS\n",
    "model = sm.OLS(y, X)\n",
    "results = model.fit()\n",
    "\n",
    "# Obtendo os resultados do modelo\n",
    "print(results.summary())\n"
   ]
  },
  {
   "cell_type": "code",
   "execution_count": null,
   "metadata": {},
   "outputs": [],
   "source": []
  }
 ],
 "metadata": {
  "kernelspec": {
   "display_name": "Python 3",
   "language": "python",
   "name": "python3"
  },
  "language_info": {
   "codemirror_mode": {
    "name": "ipython",
    "version": 3
   },
   "file_extension": ".py",
   "mimetype": "text/x-python",
   "name": "python",
   "nbconvert_exporter": "python",
   "pygments_lexer": "ipython3",
   "version": "3.11.9"
  }
 },
 "nbformat": 4,
 "nbformat_minor": 2
}
