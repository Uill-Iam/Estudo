{
 "cells": [
  {
   "cell_type": "code",
   "execution_count": 18,
   "metadata": {},
   "outputs": [],
   "source": [
    "import numpy as np"
   ]
  },
  {
   "cell_type": "code",
   "execution_count": 13,
   "metadata": {},
   "outputs": [
    {
     "name": "stdout",
     "output_type": "stream",
     "text": [
      "Lista:  [1, 2, 3, 4, 5]\n",
      "Array:  [1 2 3 4 5]\n"
     ]
    }
   ],
   "source": [
    "# cria uma lista\n",
    "lista = [1, 2, 3, 4, 5]\n",
    "\n",
    "# transforma a lista em um array Numpy\n",
    "array = np.array(lista)\n",
    "\n",
    "print(\"Lista: \", lista)\n",
    "print(\"Array: \", array)"
   ]
  },
  {
   "cell_type": "markdown",
   "metadata": {},
   "source": [
    "Compartativo Lista x Arrays "
   ]
  },
  {
   "cell_type": "code",
   "execution_count": 14,
   "metadata": {},
   "outputs": [
    {
     "name": "stdout",
     "output_type": "stream",
     "text": [
      "Tempo da operação com a lista:  0.06035614013671875\n",
      "Tempo da operação com o array:  0.0040013790130615234\n"
     ]
    }
   ],
   "source": [
    "import time\n",
    "\n",
    "# cria uma lista com 1000000 elementos\n",
    "lista = list(range(1000000))\n",
    "\n",
    "# transforma a lista em um array Numpy\n",
    "array = np.array(lista)\n",
    "\n",
    "# começa a cronometrar o tempo para a operação com a lista\n",
    "start_time = time.time()\n",
    "\n",
    "# realiza a operação de elevar ao quadrado cada elemento da lista\n",
    "lista_quadrado = [i**2 for i in lista]\n",
    "\n",
    "# para o cronômetro\n",
    "list_time = time.time() - start_time\n",
    "\n",
    "# começa a cronometrar o tempo para a operação com o array\n",
    "start_time = time.time()\n",
    "\n",
    "# realiza a operação de elevar ao quadrado cada elemento do array\n",
    "array_quadrado = array**2\n",
    "\n",
    "# para o cronômetro\n",
    "array_time = time.time() - start_time\n",
    "\n",
    "print(\"Tempo da operação com a lista: \", list_time)\n",
    "print(\"Tempo da operação com o array: \", array_time)"
   ]
  },
  {
   "cell_type": "code",
   "execution_count": 21,
   "metadata": {},
   "outputs": [],
   "source": [
    "import numpy as np\n",
    "url = 'https://raw.githubusercontent.com/allanspadini/numpy/dados/citrus.csv'\n",
    "dado = np.loadtxt(url, delimiter=',',usecols=np.arange(1,6,1),skiprows=1)"
   ]
  },
  {
   "cell_type": "markdown",
   "metadata": {},
   "source": [
    " Continuando com o projeto das laranjas/toranjas agora você deve selecionar parte dos dados. As colunas que iremos avaliar são as de diâmetro e peso. Crie arrays específicos para guardar o diâmetro e peso da laranja e toranja. O diâmetro está na coluna zero e o peso na coluna 1. Os dados referentes a laranja vão até a linha 4999 e os referentes à toranja iniciam na linha 5000 do arquivo.\n",
    "\n",
    "Após fazer a seleção de dados, importe a biblioteca matplotlib e crie um gráfico para a laranja e para a toranja do peso pelo diâmetro."
   ]
  },
  {
   "cell_type": "code",
   "execution_count": 23,
   "metadata": {},
   "outputs": [
    {
     "data": {
      "text/plain": [
       "array([[  2.96,  86.76, 172.  ,  85.  ,   2.  ],\n",
       "       [  3.91,  88.05, 166.  ,  78.  ,   3.  ],\n",
       "       [  4.42,  95.17, 156.  ,  81.  ,   2.  ],\n",
       "       ...,\n",
       "       [ 15.59, 256.5 , 168.  ,  82.  ,  20.  ],\n",
       "       [ 15.92, 260.14, 142.  ,  72.  ,  11.  ],\n",
       "       [ 16.45, 261.51, 152.  ,  74.  ,   2.  ]])"
      ]
     },
     "execution_count": 23,
     "metadata": {},
     "output_type": "execute_result"
    }
   ],
   "source": [
    "dado"
   ]
  },
  {
   "cell_type": "code",
   "execution_count": 25,
   "metadata": {},
   "outputs": [
    {
     "data": {
      "text/plain": [
       "array([ 2.96,  3.91,  4.42, ..., 15.59, 15.92, 16.45])"
      ]
     },
     "execution_count": 25,
     "metadata": {},
     "output_type": "execute_result"
    }
   ],
   "source": [
    "meses = dado [:,0]\n",
    "meses"
   ]
  },
  {
   "cell_type": "code",
   "execution_count": 26,
   "metadata": {},
   "outputs": [
    {
     "data": {
      "text/plain": [
       "array([ 86.76,  88.05,  95.17, ..., 256.5 , 260.14, 261.51])"
      ]
     },
     "execution_count": 26,
     "metadata": {},
     "output_type": "execute_result"
    }
   ],
   "source": [
    "precos = dado [:,1]\n",
    "precos"
   ]
  },
  {
   "cell_type": "code",
   "execution_count": 27,
   "metadata": {},
   "outputs": [],
   "source": [
    "diametro_laranja = dado[:5000,0]\n",
    "diametro_toranja = dado[5000:,0]\n",
    "peso_laranja = dado[:5000,1]\n",
    "peso_toranja = dado[5000:,1]"
   ]
  },
  {
   "cell_type": "code",
   "execution_count": 28,
   "metadata": {},
   "outputs": [
    {
     "data": {
      "text/plain": [
       "[<matplotlib.lines.Line2D at 0x165e3df9400>]"
      ]
     },
     "execution_count": 28,
     "metadata": {},
     "output_type": "execute_result"
    },
    {
     "data": {
      "image/png": "[encoded data removed]",
      "text/plain": [
       "<Figure size 640x480 with 1 Axes>"
      ]
     },
     "metadata": {},
     "output_type": "display_data"
    }
   ],
   "source": [
    "import matplotlib.pyplot as plt\n",
    "\n",
    "plt.plot(diametro_laranja, peso_laranja)\n",
    "plt.plot(diametro_toranja, peso_toranja)"
   ]
  },
  {
   "cell_type": "markdown",
   "metadata": {},
   "source": [
    "### Copia com Arrays"
   ]
  },
  {
   "cell_type": "code",
   "execution_count": 29,
   "metadata": {},
   "outputs": [
    {
     "data": {
      "text/plain": [
       "array([ 10000, 120000,  11000, 200000])"
      ]
     },
     "execution_count": 29,
     "metadata": {},
     "output_type": "execute_result"
    }
   ],
   "source": [
    "preco_imoveis = np.array([10000,120000,11000,200000])\n",
    "preco_imoveis"
   ]
  },
  {
   "cell_type": "code",
   "execution_count": null,
   "metadata": {},
   "outputs": [
    {
     "data": {
      "text/plain": [
       "array([ 10000, 120000,  11000, 200000])"
      ]
     },
     "execution_count": 59,
     "metadata": {},
     "output_type": "execute_result"
    }
   ],
   "source": [
    "preco_imoveis_sao_paulo = preco_imoveis\n",
    "preco_imoveis_sao_paulo"
   ]
  },
  {
   "cell_type": "code",
   "execution_count": null,
   "metadata": {},
   "outputs": [
    {
     "data": {
      "text/plain": [
       "array([120000, 120000,  11000, 200000])"
      ]
     },
     "execution_count": 60,
     "metadata": {},
     "output_type": "execute_result"
    }
   ],
   "source": [
    "preco_imoveis[0] = 120000\n",
    "preco_imoveis"
   ]
  },
  {
   "cell_type": "code",
   "execution_count": null,
   "metadata": {},
   "outputs": [
    {
     "data": {
      "text/plain": [
       "array([120000, 120000,  11000, 200000])"
      ]
     },
     "execution_count": 61,
     "metadata": {},
     "output_type": "execute_result"
    }
   ],
   "source": [
    "preco_imoveis_sao_paulo = np.copy(preco_imoveis)\n",
    "preco_imoveis_sao_paulo"
   ]
  },
  {
   "cell_type": "code",
   "execution_count": null,
   "metadata": {},
   "outputs": [
    {
     "data": {
      "image/png": "[encoded data removed]",
      "text/plain": [
       "<Figure size 640x480 with 1 Axes>"
      ]
     },
     "metadata": {},
     "output_type": "display_data"
    }
   ],
   "source": [
    "import numpy as np\n",
    "import matplotlib.pyplot as plt\n",
    "\n",
    "# Gerar uma sequência de valores de x de -1 a 1\n",
    "x = np.arange(-1, 1.01, 0.0001)\n",
    "\n",
    "# Implementação da fórmula\n",
    "y1 = np.power(1 - x,2)\n",
    "y2 = -np.power(1 - x,2)\n",
    "\n",
    "# Plotar o gráfico com as duas partes do círculo\n",
    "plt.plot(x, y1, 'r')\n",
    "plt.plot(x, y2, 'r' )\n",
    "\n",
    "# Adicionar o título do gráfico e os rótulos dos eixos x e y\n",
    "plt.title(\"Círculo\")\n",
    "plt.xlabel(\"Eixo x\")\n",
    "plt.ylabel(\"Eixo y\")\n",
    "\n",
    "# Exibir o gráfico\n",
    "plt.show()"
   ]
  },
  {
   "cell_type": "code",
   "execution_count": null,
   "metadata": {},
   "outputs": [
    {
     "name": "stderr",
     "output_type": "stream",
     "text": [
      "C:\\Users\\uilli\\AppData\\Local\\Temp\\ipykernel_18924\\2529242494.py:8: RuntimeWarning: invalid value encountered in sqrt\n",
      "  y1 = np.sqrt(1 - x**2)\n",
      "C:\\Users\\uilli\\AppData\\Local\\Temp\\ipykernel_18924\\2529242494.py:9: RuntimeWarning: invalid value encountered in sqrt\n",
      "  y2 = -np.sqrt(1 - x**2)\n"
     ]
    },
    {
     "data": {
      "image/png": "[encoded data removed]",
      "text/plain": [
       "<Figure size 640x480 with 1 Axes>"
      ]
     },
     "metadata": {},
     "output_type": "display_data"
    }
   ],
   "source": [
    "import numpy as np\n",
    "import matplotlib.pyplot as plt\n",
    "\n",
    "# Gerar uma sequência de valores de x de -1 a 1\n",
    "x = np.arange(-1, 1.01, 0.0001)\n",
    "\n",
    "# Implementação da fórmula\n",
    "y1 = np.sqrt(1 - x**2)\n",
    "y2 = -np.sqrt(1 - x**2)\n",
    "\n",
    "# Plotar o gráfico com as duas partes do círculo\n",
    "plt.plot(x, y1, 'r')\n",
    "plt.plot(x, y2, 'r' )\n",
    "\n",
    "# Adicionar o título do gráfico e os rótulos dos eixos x e y\n",
    "plt.title(\"Círculo\")\n",
    "plt.xlabel(\"Eixo x\")\n",
    "plt.ylabel(\"Eixo y\")\n",
    "\n",
    "# Exibir o gráfico\n",
    "plt.show()"
   ]
  },
  {
   "cell_type": "code",
   "execution_count": null,
   "metadata": {},
   "outputs": [
    {
     "name": "stderr",
     "output_type": "stream",
     "text": [
      "C:\\Users\\uilli\\AppData\\Local\\Temp\\ipykernel_18924\\3355162873.py:8: RuntimeWarning: invalid value encountered in sqrt\n",
      "  y = np.sqrt(1 - x**2) -np.sqrt(1 - x**2)\n"
     ]
    },
    {
     "data": {
      "image/png": "[encoded data removed]",
      "text/plain": [
       "<Figure size 640x480 with 1 Axes>"
      ]
     },
     "metadata": {},
     "output_type": "display_data"
    }
   ],
   "source": [
    "import numpy as np\n",
    "import matplotlib.pyplot as plt\n",
    "\n",
    "# Gerar uma sequência de valores de x de -1 a 1\n",
    "x = np.arange(-1, 1.01, 0.0001)\n",
    "\n",
    "# Implementação da fórmula\n",
    "y = np.sqrt(1 - x**2) -np.sqrt(1 - x**2)\n",
    "\n",
    "# Plotar o gráfico com as duas partes do círculo\n",
    "plt.plot(x, y, 'r')\n",
    "\n",
    "# Adicionar o título do gráfico e os rótulos dos eixos x e y\n",
    "plt.title(\"Círculo\")\n",
    "plt.xlabel(\"Eixo x\")\n",
    "plt.ylabel(\"Eixo y\")\n",
    "\n",
    "# Exibir o gráfico\n",
    "plt.show()"
   ]
  },
  {
   "cell_type": "markdown",
   "metadata": {},
   "source": [
    " Continuando com o projeto das laranjas/toranjas agora você deve calcular o coeficiente ângular e o linear para a reta da laranja e para a reta da toranja. Use a fórmula de mínimos quadrados para encontrar cada um."
   ]
  },
  {
   "cell_type": "code",
   "execution_count": 34,
   "metadata": {},
   "outputs": [],
   "source": [
    "Y = peso_laranja\n",
    "X = diametro_laranja\n",
    "n = np.size(X)"
   ]
  },
  {
   "cell_type": "code",
   "execution_count": 37,
   "metadata": {},
   "outputs": [
    {
     "data": {
      "text/plain": [
       "np.float64(14.7997452319846)"
      ]
     },
     "execution_count": 37,
     "metadata": {},
     "output_type": "execute_result"
    }
   ],
   "source": [
    "a = (n*np.sum(X*Y) - np.sum(X)*np.sum(Y))/(n*np.sum(X**2)-np.sum(X)**2)\n",
    "a   "
   ]
  },
  {
   "cell_type": "code",
   "execution_count": 39,
   "metadata": {},
   "outputs": [
    {
     "data": {
      "text/plain": [
       "np.float64(27.38560381218413)"
      ]
     },
     "execution_count": 39,
     "metadata": {},
     "output_type": "execute_result"
    }
   ],
   "source": [
    "b = np.mean(Y) - a*np.mean(X)\n",
    "b"
   ]
  },
  {
   "cell_type": "code",
   "execution_count": 41,
   "metadata": {},
   "outputs": [],
   "source": [
    "Y = peso_toranja\n",
    "X = diametro_toranja\n",
    "n = np.size(X)"
   ]
  },
  {
   "cell_type": "code",
   "execution_count": 42,
   "metadata": {},
   "outputs": [
    {
     "data": {
      "text/plain": [
       "np.float64(15.70884459360376)"
      ]
     },
     "execution_count": 42,
     "metadata": {},
     "output_type": "execute_result"
    }
   ],
   "source": [
    "\n",
    "a = (n*np.sum(X*Y) - np.sum(X)*np.sum(Y))/(n*np.sum(X**2)-np.sum(X)**2)\n",
    "a"
   ]
  },
  {
   "cell_type": "code",
   "execution_count": 43,
   "metadata": {},
   "outputs": [
    {
     "data": {
      "text/plain": [
       "np.float64(17.007102876817726)"
      ]
     },
     "execution_count": 43,
     "metadata": {},
     "output_type": "execute_result"
    }
   ],
   "source": [
    "b = np.mean(Y) - a*np.mean(X)\n",
    "b"
   ]
  },
  {
   "cell_type": "code",
   "execution_count": null,
   "metadata": {},
   "outputs": [
    {
     "data": {
      "text/plain": [
       "array([0.37454012, 0.95071431, 0.73199394, 0.59865848, 0.15601864])"
      ]
     },
     "execution_count": 2,
     "metadata": {},
     "output_type": "execute_result"
    }
   ],
   "source": [
    "# seguencias identicas\n",
    "import numpy as np\n",
    "\n",
    "np.random.seed(42)\n",
    "a = np.random.uniform(0, 1, 5)\n",
    "np.random.seed(42)\n",
    "b = np.random.uniform(0, 1, 5)\n"
   ]
  },
  {
   "cell_type": "code",
   "execution_count": null,
   "metadata": {},
   "outputs": [],
   "source": [
    "x = [0,1,2,3,4,5,6,7,8,9,10]"
   ]
  },
  {
   "cell_type": "code",
   "execution_count": null,
   "metadata": {},
   "outputs": [
    {
     "data": {
      "text/plain": [
       "array([ 1.5,  2.5,  3.5,  4.5,  5.5,  6.5,  7.5,  8.5,  9.5, 10.5, 11.5])"
      ]
     },
     "execution_count": 10,
     "metadata": {},
     "output_type": "execute_result"
    }
   ],
   "source": [
    "import numpy as np\n",
    "x = [0,1,2,3,4,5,6,7,8,9,10]\n",
    "x = np.array(x)\n",
    "y = x + 3 / 2\n",
    "y"
   ]
  },
  {
   "cell_type": "code",
   "execution_count": 44,
   "metadata": {},
   "outputs": [],
   "source": [
    "b= 17"
   ]
  },
  {
   "cell_type": "code",
   "execution_count": 45,
   "metadata": {},
   "outputs": [],
   "source": [
    "\n",
    "norma = np.array([])\n",
    "np.random.seed(84)\n",
    "coef_angulares = np.random.uniform(low=0.0,high=30.0,size=100)\n",
    "\n",
    "for i in range(100):\n",
    "  norma = np.append(norma,np.linalg.norm(Y- (coef_angulares[i]*X+b)))"
   ]
  },
  {
   "cell_type": "code",
   "execution_count": 46,
   "metadata": {},
   "outputs": [
    {
     "data": {
      "text/plain": [
       "array([11693.67355856,  3756.21335179,  6888.14382259,  2567.04685515,\n",
       "       11420.77932891,  9623.66917996,  8570.85655292,  6496.51679273,\n",
       "        2577.28271294,  9613.12064833,  5709.72883857,   695.35964734,\n",
       "       10855.07029288,  5539.82389583,  3137.98293399,   296.30778902,\n",
       "        8896.93668493,  8347.82090288, 10206.95670568, 10229.7542583 ,\n",
       "        2193.54863897,  8448.39951623, 11004.80458021, 11563.3388543 ,\n",
       "        4098.18752189,  7732.70842098,  2801.84736004,  7688.60780777,\n",
       "       11134.73586307,  9432.12778879,   725.4664674 ,  6290.36141277,\n",
       "        5189.67184491,  4716.99608173,  9250.47142251,  7274.49676931,\n",
       "        8876.20611799,   621.16747277,  4716.1854569 ,  8050.51001798,\n",
       "        9238.31227388,  3992.98429323, 11531.1764187 ,  5849.11139809,\n",
       "        1042.57303406,  9875.3710071 , 11759.24152592,  8956.15615033,\n",
       "        2219.50808351,  3585.49846047, 11347.59016791,  2477.87811921,\n",
       "         878.91891293,  2740.88025627,  1766.171738  ,   710.47076735,\n",
       "       10067.07162101,  6347.17090822, 12388.06675209,  4279.10033959,\n",
       "        6946.02067623,  2906.41428845,   104.40529157,  7558.60939751,\n",
       "        4224.62973567,  8179.74838026, 12397.73292649, 11190.99930959,\n",
       "        7036.14719367, 10703.05130551, 12509.21786548,  5889.31418963,\n",
       "        7255.35608235, 12754.02485478,  4277.22119478,  2053.04097821,\n",
       "        8376.42892243,   389.94011406,  5896.97003989, 10488.87297294,\n",
       "        1195.54220071,  6454.27729425,  5255.27304236, 12297.4767493 ,\n",
       "        5899.92818696,  6505.81020644, 10388.25661606,  4879.40103495,\n",
       "        7477.48430382,  1220.34716028,  9802.44671627,  1360.59082421,\n",
       "         505.47719741,  1003.95500109,  2008.05819559,   371.10522699,\n",
       "        2094.74163899,  4658.97873807,  5043.61920931,  4893.93574007])"
      ]
     },
     "execution_count": 46,
     "metadata": {},
     "output_type": "execute_result"
    }
   ],
   "source": [
    "norma"
   ]
  },
  {
   "cell_type": "code",
   "execution_count": 47,
   "metadata": {},
   "outputs": [
    {
     "data": {
      "text/plain": [
       "np.float64(104.40529157196431)"
      ]
     },
     "execution_count": 47,
     "metadata": {},
     "output_type": "execute_result"
    }
   ],
   "source": [
    "np.min(norma)"
   ]
  },
  {
   "cell_type": "code",
   "execution_count": 48,
   "metadata": {},
   "outputs": [
    {
     "data": {
      "text/plain": [
       "array([15.82512199])"
      ]
     },
     "execution_count": 48,
     "metadata": {},
     "output_type": "execute_result"
    }
   ],
   "source": [
    "coef_angulares[norma == np.min(norma)]"
   ]
  }
 ],
 "metadata": {
  "kernelspec": {
   "display_name": "Python 3",
   "language": "python",
   "name": "python3"
  },
  "language_info": {
   "codemirror_mode": {
    "name": "ipython",
    "version": 3
   },
   "file_extension": ".py",
   "mimetype": "text/x-python",
   "name": "python",
   "nbconvert_exporter": "python",
   "pygments_lexer": "ipython3",
   "version": "3.12.4"
  }
 },
 "nbformat": 4,
 "nbformat_minor": 2
}
